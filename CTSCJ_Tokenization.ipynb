{
  "cells": [
    {
      "cell_type": "markdown",
      "metadata": {
        "id": "JliZ6llPpf_4"
      },
      "source": [
        "#import\n",
        "\n"
      ]
    },
    {
      "cell_type": "code",
      "execution_count": 1,
      "metadata": {
        "id": "PYyc8--AouPH",
        "colab": {
          "base_uri": "https://localhost:8080/"
        },
        "outputId": "f91d1fe0-1759-4eb6-e1d8-1fa341b07e60"
      },
      "outputs": [
        {
          "output_type": "stream",
          "name": "stdout",
          "text": [
            "\u001b[2K     \u001b[90m━━━━━━━━━━━━━━━━━━━━━━━━━━━━━━━━━━━━━━━\u001b[0m \u001b[32m13.4/13.4 MB\u001b[0m \u001b[31m119.3 MB/s\u001b[0m eta \u001b[36m0:00:00\u001b[0m\n",
            "\u001b[2K     \u001b[90m━━━━━━━━━━━━━━━━━━━━━━━━━━━━━━━━━━━━━━━━\u001b[0m \u001b[32m1.3/1.3 MB\u001b[0m \u001b[31m17.3 MB/s\u001b[0m eta \u001b[36m0:00:00\u001b[0m\n",
            "\u001b[?25h  Preparing metadata (setup.py) ... \u001b[?25l\u001b[?25hdone\n",
            "\u001b[2K     \u001b[90m━━━━━━━━━━━━━━━━━━━━━━━━━━━━━━━━━━━━━━━━\u001b[0m \u001b[32m88.3/88.3 kB\u001b[0m \u001b[31m9.9 MB/s\u001b[0m eta \u001b[36m0:00:00\u001b[0m\n",
            "\u001b[?25h  Preparing metadata (setup.py) ... \u001b[?25l\u001b[?25hdone\n",
            "\u001b[2K     \u001b[90m━━━━━━━━━━━━━━━━━━━━━━━━━━━━━━━━━━━━━━\u001b[0m \u001b[32m473.8/473.8 kB\u001b[0m \u001b[31m50.7 MB/s\u001b[0m eta \u001b[36m0:00:00\u001b[0m\n",
            "\u001b[2K     \u001b[90m━━━━━━━━━━━━━━━━━━━━━━━━━━━━━━━━━━━━━━\u001b[0m \u001b[32m993.5/993.5 kB\u001b[0m \u001b[31m68.2 MB/s\u001b[0m eta \u001b[36m0:00:00\u001b[0m\n",
            "\u001b[?25h  Building wheel for docopt (setup.py) ... \u001b[?25l\u001b[?25hdone\n",
            "  Building wheel for fire (setup.py) ... \u001b[?25l\u001b[?25hdone\n"
          ]
        }
      ],
      "source": [
        "!pip install gdown -q\n",
        "!pip install pythainlp -q\n",
        "!pip install attacut -q\n",
        "!wget https://github.com/Phonbopit/sarabun-webfont/raw/master/fonts/thsarabunnew-webfont.ttf -q\n",
        "import matplotlib as mpl\n",
        "mpl.font_manager.fontManager.addfont('thsarabunnew-webfont.ttf')\n",
        "mpl.rc('font', family='TH Sarabun New')\n",
        "import gdown\n",
        "from pythainlp.tokenize import word_tokenize\n",
        "from nltk.util import ngrams\n",
        "from pythainlp.util import normalize\n",
        "from pythainlp.corpus import thai_stopwords\n",
        "from pythainlp.tokenize import Tokenizer\n",
        "from pythainlp.corpus.common import thai_words\n",
        "from pythainlp.util import dict_trie\n",
        "from collections import Counter\n",
        "import re\n",
        "from tqdm import tqdm\n",
        "from sklearn.model_selection import train_test_split\n",
        "import matplotlib.pyplot as plt"
      ]
    },
    {
      "cell_type": "markdown",
      "metadata": {
        "id": "IxEFhKBrpka0"
      },
      "source": [
        "#เตรียมข้อมูล"
      ]
    },
    {
      "cell_type": "markdown",
      "metadata": {
        "id": "FvjeaX21yBEY"
      },
      "source": [
        "## ข้อมูลดิบ"
      ]
    },
    {
      "cell_type": "code",
      "execution_count": 2,
      "metadata": {
        "id": "ZELDEJc4tZXt"
      },
      "outputs": [],
      "source": [
        "# ข้อมูลดิบ\n",
        "url = 'https://drive.google.com/uc?id=12Aqsi6nVSMx5_jUuUdmjY9KtjW9EXrez'\n",
        "output = 'thai-judicial-decisions-raw-data-unformat.txt'\n",
        "gdown.download(url, output, quiet=True)\n",
        "with open('thai-judicial-decisions-raw-data-unformat.txt', 'r') as file:\n",
        "    data = file.readlines()\n",
        "data = [line.strip() for line in data]\n",
        "for numRow in range(len(data)):\n",
        "  data[numRow] = data[numRow].split(' ')\n",
        "\n",
        "st = 0\n",
        "en = 0\n",
        "doc = []\n",
        "for i in range(len(data)):\n",
        "  if data[i] == ['']:\n",
        "    en=i\n",
        "    nested_list = data[st:en]\n",
        "    flattened_list = [item for sublist in nested_list for item in sublist]\n",
        "    doc.append(word_tokenize(normalize(\" \".join(flattened_list)), engine=\"newmm\",keep_whitespace=False,join_broken_num=True))\n",
        "    st = i+1\n",
        "\n",
        "st = 0\n",
        "en = 0\n",
        "doc_uncut = []\n",
        "for i in range(len(data)):\n",
        "  if data[i] == ['']:\n",
        "    en=i\n",
        "    nested_list = data[st:en]\n",
        "    flattened_list = [item for sublist in nested_list for item in sublist]\n",
        "    doc_uncut.append(' '.join(flattened_list))\n",
        "    st = i+1"
      ]
    },
    {
      "cell_type": "markdown",
      "metadata": {
        "id": "FARZYA6VzkwM"
      },
      "source": [
        "## ข้อมูลเฉลย"
      ]
    },
    {
      "cell_type": "code",
      "source": [
        "def convert(text):\n",
        "  # ลบคำที่เป็นช่องว่าง\n",
        "  words = re.sub(\"(.*) : \", \"\", text)\n",
        "  # ใช้เครื่องหมาย | เป็นตัวแยกคำ\n",
        "  words = re.split(r'\\|', words)\n",
        "  return words"
      ],
      "metadata": {
        "id": "LiI9mPOHbwsn"
      },
      "execution_count": 3,
      "outputs": []
    },
    {
      "cell_type": "code",
      "execution_count": 4,
      "metadata": {
        "id": "M5K6ei5pzj1I"
      },
      "outputs": [],
      "source": [
        "url = 'https://drive.google.com/uc?id=1gTYeSADoVlNPUXZmFiiNxcUgk_eFKrvI'\n",
        "output = 'pipTextCustomNew.txt'\n",
        "gdown.download(url, output, quiet=True)\n",
        "\n",
        "with open('pipTextCustomNew.txt', 'r') as file:\n",
        "    pipTextCustomNew = file.readlines()\n",
        "pipTextCustomNew = [line.strip() for line in pipTextCustomNew]\n",
        "\n",
        "pipDocCustomNew = []\n",
        "for i in pipTextCustomNew:\n",
        "  if i != '':\n",
        "    pipDocCustomNew.append(convert(i))\n",
        "\n",
        "newWord=[]\n",
        "for index1,item1 in enumerate(pipDocCustomNew):\n",
        "  for index2,item2 in enumerate(item1):\n",
        "    if item2 not in doc[index1] and item2 not in newWord:\n",
        "      newWord.append(item2)\n",
        "\n",
        "url = 'https://drive.google.com/uc?id=1pZCUur3E-G13TPrg7PxDugUAjkg72ynf'\n",
        "output = 'CustomNew.txt'\n",
        "gdown.download(url, output, quiet=True)\n",
        "\n",
        "with open('CustomNew.txt', 'r') as file:\n",
        "    CustomNew = file.readlines()\n",
        "CustomNew = [line.strip() for line in CustomNew]\n",
        "\n",
        "for i in CustomNew:\n",
        "  newWord.append(i.split(':')[0])\n",
        "\n",
        "custom_words_list = set(thai_words())\n",
        "for i in newWord:\n",
        "  custom_words_list.add(i)\n",
        "trie = dict_trie(dict_source=custom_words_list)\n",
        "\n",
        "st = 0\n",
        "en = 0\n",
        "expectedDoc = []\n",
        "for i in range(len(data)):\n",
        "  if data[i] == ['']:\n",
        "    en=i\n",
        "    nested_list = data[st:en]\n",
        "    flattened_list = [item for sublist in nested_list for item in sublist]\n",
        "    expectedDoc.append(word_tokenize(normalize(\" \".join(flattened_list)), engine=\"newmm\",keep_whitespace=False,join_broken_num=True, custom_dict=trie))\n",
        "    st = i+1"
      ]
    },
    {
      "cell_type": "markdown",
      "metadata": {
        "id": "1FHXOa95yoXJ"
      },
      "source": [
        "## เเบ่ง Train Test"
      ]
    },
    {
      "cell_type": "code",
      "execution_count": 5,
      "metadata": {
        "id": "BFDJSOs1y8Nl"
      },
      "outputs": [],
      "source": [
        "train,test = train_test_split(range(len(expectedDoc)), test_size=0.3, random_state=42)\n",
        "\n",
        "doc_train = []\n",
        "for i in train:\n",
        "  doc_train.append(doc[i])\n",
        "\n",
        "doc_test = []\n",
        "for i in test:\n",
        "  doc_test.append(doc[i])\n",
        "\n",
        "expectedDoc_train = []\n",
        "for i in train:\n",
        "  expectedDoc_train.append(expectedDoc[i])\n",
        "\n",
        "expectedDoc_test = []\n",
        "for i in test:\n",
        "  expectedDoc_test.append(expectedDoc[i])"
      ]
    },
    {
      "cell_type": "markdown",
      "metadata": {
        "id": "-GAqyCsq0Sls"
      },
      "source": [
        "##คลีนข้อมูล\n",
        "\n"
      ]
    },
    {
      "cell_type": "code",
      "execution_count": 8,
      "metadata": {
        "id": "QYL911Xk3_7U"
      },
      "outputs": [],
      "source": [
        "url = 'https://drive.google.com/uc?id=1ob5p4XX0PBmdJjRNTRSYH2i2iZKqYHM9'\n",
        "output = 'removeNgarm.txt'\n",
        "gdown.download(url, output, quiet=True)\n",
        "\n",
        "with open('removeNgarm.txt', 'r') as file:\n",
        "    removeNgarm = file.readlines()\n",
        "removeNgarm = [line.strip() for line in removeNgarm]\n",
        "\n",
        "# เพิ่มคำใน remove ลงใน stopwords\n",
        "stopwords = set(thai_stopwords())\n",
        "stopwords.update(removeNgarm)\n",
        "\n",
        "url = 'https://drive.google.com/uc?id=1-bk24SOg7djTA6rSY5l2Gf8MaRcjhIDK'\n",
        "output = 'unique_removed.txt'\n",
        "gdown.download(url, output, quiet=True)\n",
        "with open('unique_removed.txt', 'r') as file:\n",
        "    unique_words = file.readlines()\n",
        "unique_words = [line.strip() for line in unique_words]\n",
        "\n",
        "cleaned_doc = []\n",
        "for document in doc_train:\n",
        "  cleaned_doc.append([word for word in document if word.strip() and word in unique_words])\n",
        "\n",
        "join_doc = []\n",
        "for document in cleaned_doc:\n",
        "  join_doc = join_doc + document\n",
        "\n",
        "vocab = set(join_doc)\n",
        "\n",
        "filtered_list = [[item for item in row if '(' not in item and ')' not in item]   for row in doc_train ]"
      ]
    },
    {
      "cell_type": "markdown",
      "metadata": {
        "id": "KOwJdY2U1-E_"
      },
      "source": [
        "##สร้าง List BiGram และ TriGram"
      ]
    },
    {
      "cell_type": "code",
      "execution_count": 9,
      "metadata": {
        "id": "lWU_GOzrpmCv"
      },
      "outputs": [],
      "source": [
        "addTag = []\n",
        "for i in filtered_list:\n",
        "  addTag.append(['<s>']+i+['<s/>'])\n",
        "\n",
        "join_new_list= []\n",
        "for document in addTag:\n",
        "  join_new_list = join_new_list + document\n",
        "\n",
        "Bi_Gram_list = []\n",
        "Tri_Gram_list = []\n",
        "for i in addTag:\n",
        "  Bi_Gram_list = Bi_Gram_list + list(ngrams(i, 2))\n",
        "  Tri_Gram_list = Tri_Gram_list + list(ngrams(i, 3))\n",
        "\n",
        "# นับความถี่ของ N-grams\n",
        "vocabulary = dict(Counter(join_new_list))\n",
        "Bi_gram_freq = Counter(Bi_Gram_list)\n",
        "Tri_gram_freq = Counter(Tri_Gram_list)"
      ]
    },
    {
      "cell_type": "markdown",
      "metadata": {
        "id": "oMbPVUT13nzJ"
      },
      "source": [
        "# Bigram"
      ]
    },
    {
      "cell_type": "code",
      "execution_count": 10,
      "metadata": {
        "id": "fY-AWSfm3nlm"
      },
      "outputs": [],
      "source": [
        "# สร้าง Bigram probability\n",
        "bigram_probabilities = {}\n",
        "\n",
        "for bigram, freq in Bi_gram_freq.items():\n",
        "  w1 = bigram[0]\n",
        "  w2 = bigram[1]\n",
        "  w1_freq = vocabulary[w1]\n",
        "  w2_freq = vocabulary[w2]\n",
        "  prob_w1 = freq / w1_freq\n",
        "  prob_w2 = freq / w2_freq\n",
        "  probability = (prob_w1+prob_w2)\n",
        "  if w1 in vocab and w1 not in stopwords and w2 not in stopwords and probability != 2:\n",
        "    bigram_probabilities[bigram] = probability\n",
        "\n",
        "# เรียง vocabulary จากมากไปน้อยโดยใช้ความถี่\n",
        "sort_bigram=dict(sorted(bigram_probabilities.items(), key=lambda item: item[1], reverse=True))"
      ]
    },
    {
      "cell_type": "markdown",
      "metadata": {
        "id": "Grc1ah5S4p5B"
      },
      "source": [
        "# Trigram"
      ]
    },
    {
      "cell_type": "code",
      "execution_count": 11,
      "metadata": {
        "id": "xka3WrrR2OO8"
      },
      "outputs": [],
      "source": [
        "# สร้าง Trigram probability\n",
        "trigram_probabilities = {}\n",
        "\n",
        "for trigram, freq in Tri_gram_freq.items():\n",
        "  w1 = trigram[0]\n",
        "  w2 = trigram[1]\n",
        "  w3 = trigram[2]\n",
        "  bigram = Bi_gram_freq[(w1, w2)]\n",
        "  prob_w1 = freq / bigram\n",
        "  prob_w2 = freq / vocabulary[w3]\n",
        "  probability = (prob_w1+prob_w2)\n",
        "  if w1 not in stopwords and w2 not in stopwords and w3 not in stopwords and probability != 2:\n",
        "    trigram_probabilities[trigram] = probability\n",
        "\n",
        "# เรียง vocabulary จากมากไปน้อยโดยใช้ความถี่\n",
        "sort_trigram=dict(sorted(trigram_probabilities.items(), key=lambda item: item[1], reverse=True))"
      ]
    },
    {
      "cell_type": "markdown",
      "metadata": {
        "id": "jTBHbVpW6CsD"
      },
      "source": [
        "# Train"
      ]
    },
    {
      "cell_type": "code",
      "execution_count": 12,
      "metadata": {
        "id": "TfaeCW1B6FGE"
      },
      "outputs": [],
      "source": [
        "def intersection(lst1, lst2):\n",
        "    lst3 = [value for value in lst1 if value in lst2]\n",
        "    return lst3\n",
        "\n",
        "# ฟังก์ชันคำนวณ Precision\n",
        "def precision(gt, pred):\n",
        "    true_positives = len(intersection(gt,pred))\n",
        "    return true_positives / len(pred)\n",
        "\n",
        "# ฟังก์ชันคำนวณ Recall\n",
        "def recall(gt, pred):\n",
        "    true_positives = len(intersection(gt,pred))\n",
        "    return true_positives / len(gt)\n",
        "\n",
        "# ฟังก์ชันคำนวณ F1 Score\n",
        "def f1_score(gt, pred):\n",
        "    precision_score = precision(gt, pred)\n",
        "    recall_score = recall(gt, pred)\n",
        "    if precision_score + recall_score == 0:\n",
        "        return 0\n",
        "    return 2 * (precision_score * recall_score) / (precision_score + recall_score)\n",
        "\n",
        "# Python program to get average of a list\n",
        "def Average(lst):\n",
        "    return sum(lst) / len(lst)"
      ]
    },
    {
      "cell_type": "markdown",
      "metadata": {
        "id": "UTNkRkfz7X2M"
      },
      "source": [
        "## Train BiGram"
      ]
    },
    {
      "cell_type": "code",
      "source": [
        "AverageBigrams = []\n",
        "joined_bigrams = {''.join(bigram): probability / 2 for bigram, probability in sort_bigram.items()}\n",
        "\n",
        "for num in tqdm (range(0,100)):\n",
        "  min_probability = (num/100)\n",
        "  selected_bigrams = [bigram for bigram, probability in joined_bigrams.items() if probability >= min_probability]\n",
        "  custom_words_list_Bigrams = set(thai_words())\n",
        "  custom_words_list_Bigrams.update(selected_bigrams)\n",
        "  trie_Bigrams = dict_trie(dict_source=custom_words_list_Bigrams)\n",
        "\n",
        "  newTokenizer = []\n",
        "  for i in train:\n",
        "    doc_uncut[i]\n",
        "    newTokenizer.append(word_tokenize(normalize(doc_uncut[i]), engine=\"newmm\",keep_whitespace=False,join_broken_num=True, custom_dict=trie_Bigrams))\n",
        "\n",
        "\n",
        "  list_F1 = []\n",
        "  for i in range(len(train)):\n",
        "    ground_truth = expectedDoc_train[i]\n",
        "    prediction = newTokenizer[i]\n",
        "    list_F1.append(f1_score(ground_truth, prediction))\n",
        "\n",
        "  average = Average(list_F1)\n",
        "  AverageBigrams.append(round(average, 10))\n",
        "\n",
        "# สร้างกราฟ\n",
        "plt.plot(AverageBigrams, marker='o', linestyle='-')\n",
        "plt.xlabel('Bigrams ที่มีความน่าจะเป็นตั้งเเต่ x ขึ้นไป')\n",
        "plt.ylabel('ค่า F1')\n",
        "plt.title('ค่า F1 / Bigrams ที่มีความน่าจะเป็นตั้งเเต่ x ขึ้นไป')\n",
        "plt.show()\n",
        "\n",
        "print(f'ค่า x ที่ได้คะเเนน F1 สูงสุด :{AverageBigrams.index(max(AverageBigrams))}')\n",
        "print(f'คะเเนน F1 สูงสุด :{max(AverageBigrams)}')\n",
        "print(f'จำนวนคำที่เพิ่ม :{len([bigram for bigram, probability in sort_bigram.items() if probability >= (((AverageBigrams.index(max(AverageBigrams)))/100)*2)]) } คำ')\n"
      ],
      "metadata": {
        "colab": {
          "base_uri": "https://localhost:8080/",
          "height": 560
        },
        "id": "-QqHk4XFl4G4",
        "outputId": "41de90d2-f362-476f-bc93-75424243866a"
      },
      "execution_count": 13,
      "outputs": [
        {
          "output_type": "stream",
          "name": "stderr",
          "text": [
            "100%|██████████| 100/100 [16:13<00:00,  9.74s/it]\n"
          ]
        },
        {
          "output_type": "display_data",
          "data": {
            "text/plain": [
              "<Figure size 640x480 with 1 Axes>"
            ],
            "image/png": "[encoded data removed]"
          },
          "metadata": {}
        },
        {
          "output_type": "stream",
          "name": "stdout",
          "text": [
            "ค่า x ที่ได้คะเเนน F1 สูงสุด :71\n",
            "คะเเนน F1 สูงสุด :0.989801734\n",
            "จำนวนคำที่เพิ่ม :277 คำ\n"
          ]
        }
      ]
    },
    {
      "cell_type": "markdown",
      "metadata": {
        "id": "_eRzUGCJRbFw"
      },
      "source": [
        "## Train Trigram"
      ]
    },
    {
      "cell_type": "code",
      "source": [
        "AverageTrigram = []\n",
        "joined_trigrams = {''.join(trigram): probability / 2 for trigram, probability in sort_trigram.items()}\n",
        "\n",
        "for num in tqdm (range(0,100)):\n",
        "  min_probability = (num/100)\n",
        "  selected_trigram = [trigram for trigram, probability in joined_trigrams.items() if probability >= min_probability]\n",
        "  custom_words_list_trigrams = set(thai_words())\n",
        "  custom_words_list_trigrams.update(selected_trigram)\n",
        "  trie_trigrams = dict_trie(dict_source=custom_words_list_trigrams)\n",
        "\n",
        "  newTokenizer = []\n",
        "  for i in train:\n",
        "    doc_uncut[i]\n",
        "    newTokenizer.append(word_tokenize(normalize(doc_uncut[i]), engine=\"newmm\",keep_whitespace=False,join_broken_num=True, custom_dict=trie_trigrams))\n",
        "\n",
        "\n",
        "  list_F1 = []\n",
        "  for i in range(len(train)):\n",
        "    ground_truth = expectedDoc_train[i]\n",
        "    prediction = newTokenizer[i]\n",
        "    list_F1.append(f1_score(ground_truth, prediction))\n",
        "\n",
        "  average = Average(list_F1)\n",
        "  AverageTrigram.append(round(average, 10))\n",
        "\n",
        "# สร้างกราฟ\n",
        "plt.plot(AverageTrigram, marker='o', linestyle='-')\n",
        "plt.xlabel('Trigram ที่มีความน่าจะเป็นตั้งเเต่ x ขึ้นไป')\n",
        "plt.ylabel('ค่า F1')\n",
        "plt.title('ค่า F1 / Trigram ที่มีความน่าจะเป็นตั้งเเต่ x ขึ้นไป')\n",
        "plt.show()\n",
        "\n",
        "print(f'ค่า x ที่ได้คะเเนน F1 สูงสุด :{AverageTrigram.index(max(AverageTrigram))}')\n",
        "print(f'คะเเนน F1 สูงสุด :{max(AverageTrigram)}')\n",
        "print(f'จำนวนคำที่เพิ่ม :{len([trigram for trigram, probability in sort_trigram.items() if probability >= (((AverageTrigram.index(max(AverageTrigram)))/100)*2)]) } คำ')\n"
      ],
      "metadata": {
        "colab": {
          "base_uri": "https://localhost:8080/",
          "height": 560
        },
        "id": "Rq5QElBaaGWk",
        "outputId": "c773060c-a511-47fb-a4bf-dc3ce4a2da5e"
      },
      "execution_count": 14,
      "outputs": [
        {
          "output_type": "stream",
          "name": "stderr",
          "text": [
            "100%|██████████| 100/100 [16:38<00:00,  9.99s/it]\n"
          ]
        },
        {
          "output_type": "display_data",
          "data": {
            "text/plain": [
              "<Figure size 640x480 with 1 Axes>"
            ],
            "image/png": "[encoded data removed]"
          },
          "metadata": {}
        },
        {
          "output_type": "stream",
          "name": "stdout",
          "text": [
            "ค่า x ที่ได้คะเเนน F1 สูงสุด :98\n",
            "คะเเนน F1 สูงสุด :0.9885228411\n",
            "จำนวนคำที่เพิ่ม :1 คำ\n"
          ]
        }
      ]
    },
    {
      "cell_type": "markdown",
      "source": [
        "#Test"
      ],
      "metadata": {
        "id": "cn_bDQzp4ucX"
      }
    },
    {
      "cell_type": "markdown",
      "source": [
        "##2gram"
      ],
      "metadata": {
        "id": "d4g6axSB40Al"
      }
    },
    {
      "cell_type": "code",
      "source": [
        "st = 0\n",
        "en = 0\n",
        "newTokenizer = []\n",
        "for i in range(len(data)):\n",
        "  if data[i] == ['']:\n",
        "    en=i\n",
        "    nested_list = data[st:en]\n",
        "    flattened_list = [item for sublist in nested_list for item in sublist]\n",
        "    newTokenizer.append(word_tokenize(normalize(\" \".join(flattened_list)), engine=\"newmm\",keep_whitespace=False,join_broken_num=True, custom_dict=trie_Bigrams))\n",
        "    st = i+1\n",
        "newTokenizer_test = []\n",
        "for i in test:\n",
        "  newTokenizer_test.append(newTokenizer[i])\n",
        "list_F1 = []\n",
        "for i in range(len(newTokenizer_test)):\n",
        "  ground_truth = expectedDoc_test[i]\n",
        "  prediction = newTokenizer_test[i]\n",
        "  # คำนวณค่า F1 Score\n",
        "  list_F1.append(f1_score(ground_truth, prediction))\n",
        "\n",
        "F1_Bigrams = (round(Average(list_F1), 10))\n",
        "\n",
        "print(f'คะเเนน F1:{F1_Bigrams}')"
      ],
      "metadata": {
        "colab": {
          "base_uri": "https://localhost:8080/"
        },
        "id": "seQ_soVR5nJM",
        "outputId": "420caf42-b171-468f-848b-1581474bb027"
      },
      "execution_count": 15,
      "outputs": [
        {
          "output_type": "stream",
          "name": "stdout",
          "text": [
            "คะเเนน F1:0.9891467669\n"
          ]
        }
      ]
    },
    {
      "cell_type": "markdown",
      "source": [
        "##3gram"
      ],
      "metadata": {
        "id": "OgeqqsXM47dg"
      }
    },
    {
      "cell_type": "code",
      "source": [
        "st = 0\n",
        "en = 0\n",
        "newTokenizer = []\n",
        "for i in range(len(data)):\n",
        "  if data[i] == ['']:\n",
        "    en=i\n",
        "    nested_list = data[st:en]\n",
        "    flattened_list = [item for sublist in nested_list for item in sublist]\n",
        "    newTokenizer.append(word_tokenize(normalize(\" \".join(flattened_list)), engine=\"newmm\",keep_whitespace=False,join_broken_num=True, custom_dict=trie_trigrams))\n",
        "    st = i+1\n",
        "newTokenizer_test = []\n",
        "for i in test:\n",
        "  newTokenizer_test.append(newTokenizer[i])\n",
        "list_F1 = []\n",
        "for i in range(len(newTokenizer_test)):\n",
        "  ground_truth = expectedDoc_test[i]\n",
        "  prediction = newTokenizer_test[i]\n",
        "  # คำนวณค่า F1 Score\n",
        "  list_F1.append(f1_score(ground_truth, prediction))\n",
        "\n",
        "F1_Trigram = (round(Average(list_F1), 10))\n",
        "\n",
        "print(f'คะเเนน F1:{F1_Trigram}')"
      ],
      "metadata": {
        "colab": {
          "base_uri": "https://localhost:8080/"
        },
        "id": "Unng2sz083UU",
        "outputId": "57596792-7e05-473e-f7c4-d3e4e808229a"
      },
      "execution_count": 16,
      "outputs": [
        {
          "output_type": "stream",
          "name": "stdout",
          "text": [
            "คะเเนน F1:0.9875201862\n"
          ]
        }
      ]
    },
    {
      "cell_type": "markdown",
      "source": [
        "##2+3gram"
      ],
      "metadata": {
        "id": "F0K1vNHa1tF3"
      }
    },
    {
      "cell_type": "code",
      "source": [
        "custom_words_list_Ngram = set(thai_words())\n",
        "for i in joined_bigrams:\n",
        "  custom_words_list_Ngram.add(i)\n",
        "for i in joined_trigrams:\n",
        "  custom_words_list_Ngram.add(i)\n",
        "\n",
        "trie_Ngram = dict_trie(dict_source=custom_words_list_Ngram)\n",
        "\n",
        "st = 0\n",
        "en = 0\n",
        "newTokenizer = []\n",
        "for i in range(len(data)):\n",
        "  if data[i] == ['']:\n",
        "    en=i\n",
        "    nested_list = data[st:en]\n",
        "    flattened_list = [item for sublist in nested_list for item in sublist]\n",
        "    newTokenizer.append(word_tokenize(normalize(\" \".join(flattened_list)), engine=\"newmm\",keep_whitespace=False,join_broken_num=True, custom_dict=trie_Ngram))\n",
        "    st = i+1\n",
        "newTokenizer_test = []\n",
        "for i in test:\n",
        "  newTokenizer_test.append(newTokenizer[i])\n",
        "list_F1 = []\n",
        "for i in range(len(newTokenizer_test)):\n",
        "  ground_truth = expectedDoc_test[i]\n",
        "  prediction = newTokenizer_test[i]\n",
        "  # คำนวณค่า F1 Score\n",
        "  list_F1.append(f1_score(ground_truth, prediction))\n",
        "\n",
        "F1_Ngram = (round(Average(list_F1), 10))\n",
        "\n",
        "print(f'คะเเนน F1:{F1_Ngram}')"
      ],
      "metadata": {
        "colab": {
          "base_uri": "https://localhost:8080/"
        },
        "id": "Hx1wOxhE1zEh",
        "outputId": "783a1167-92ec-443d-d273-2c8d29e2562a"
      },
      "execution_count": 17,
      "outputs": [
        {
          "output_type": "stream",
          "name": "stdout",
          "text": [
            "คะเเนน F1:0.9467804813\n"
          ]
        }
      ]
    },
    {
      "cell_type": "markdown",
      "source": [
        "##newmm"
      ],
      "metadata": {
        "id": "UawRbT6m5GM2"
      }
    },
    {
      "cell_type": "code",
      "source": [
        "list_F1 = []\n",
        "for i in range(len(test)):\n",
        "  ground_truth = expectedDoc_test[i]\n",
        "  prediction = doc_test[i]\n",
        "  # คำนวณค่า F1 Score\n",
        "  list_F1.append(f1_score(ground_truth, prediction))\n",
        "\n",
        "F1_Trigram = (round(Average(list_F1), 10))\n",
        "\n",
        "print(f'คะเเนน F1:{F1_Trigram}')"
      ],
      "metadata": {
        "colab": {
          "base_uri": "https://localhost:8080/"
        },
        "id": "EnI8mga3rTIo",
        "outputId": "02029f16-4f18-4b78-861b-7247ee8fa53a"
      },
      "execution_count": 18,
      "outputs": [
        {
          "output_type": "stream",
          "name": "stdout",
          "text": [
            "คะเเนน F1:0.9875201862\n"
          ]
        }
      ]
    },
    {
      "cell_type": "markdown",
      "source": [
        "##attacut"
      ],
      "metadata": {
        "id": "2auVIg9r6SsW"
      }
    },
    {
      "cell_type": "code",
      "source": [
        "st = 0\n",
        "en = 0\n",
        "attacut = []\n",
        "for i in range(len(data)):\n",
        "  if data[i] == ['']:\n",
        "    en=i\n",
        "    nested_list = data[st:en]\n",
        "    flattened_list = [item for sublist in nested_list for item in sublist]\n",
        "    attacut.append(word_tokenize(normalize(\" \".join(flattened_list)), engine=\"attacut\",keep_whitespace=False,join_broken_num=True))\n",
        "    st = i+1\n",
        "\n",
        "attacut_test = []\n",
        "for i in test:\n",
        "  attacut_test.append(attacut[i])\n",
        "\n",
        "list_F1 = []\n",
        "for i in range(len(test)):\n",
        "  ground_truth = expectedDoc_test[i]\n",
        "  prediction = attacut_test[i]\n",
        "  # คำนวณค่า F1 Score\n",
        "  list_F1.append(f1_score(ground_truth, prediction))\n",
        "\n",
        "F1_Trigram = (round(Average(list_F1), 10))\n",
        "\n",
        "print(f'คะเเนน F1:{F1_Trigram}')"
      ],
      "metadata": {
        "colab": {
          "base_uri": "https://localhost:8080/"
        },
        "id": "xpGzZTf96F7g",
        "outputId": "26ade9a6-a36c-47d8-9250-f3df32db7867"
      },
      "execution_count": 19,
      "outputs": [
        {
          "output_type": "stream",
          "name": "stdout",
          "text": [
            "คะเเนน F1:0.6941382949\n"
          ]
        }
      ]
    }
  ],
  "metadata": {
    "colab": {
      "collapsed_sections": [
        "s-HMNFCT-9Kr",
        "cn_bDQzp4ucX"
      ],
      "provenance": []
    },
    "kernelspec": {
      "display_name": "Python 3",
      "name": "python3"
    },
    "language_info": {
      "name": "python"
    }
  },
  "nbformat": 4,
  "nbformat_minor": 0
}